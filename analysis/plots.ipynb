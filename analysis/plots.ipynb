{
 "cells": [
  {
   "cell_type": "code",
   "execution_count": null,
   "metadata": {
    "collapsed": false
   },
   "outputs": [],
   "source": [
    "library(ggplot2)\n",
    "library(repr)\n",
    "library(reshape2)"
   ]
  },
  {
   "cell_type": "code",
   "execution_count": null,
   "metadata": {
    "collapsed": false
   },
   "outputs": [],
   "source": [
    "experiment <- 'experiment0'\n",
    "data_path <- paste('./data/', experiment, '.csv', sep = '')\n",
    "selected_representation <- 'hashed'"
   ]
  },
  {
   "cell_type": "code",
   "execution_count": null,
   "metadata": {
    "collapsed": false
   },
   "outputs": [],
   "source": [
    "experiment.df <- read.csv(data_path)\n",
    "experiment.df.long <- melt(experiment.df, id.vars = c('classifier', 'representation', 'lemma', 'corpus'),\n",
    "                           measure.vars = c('accuracy', 'macro_precision', 'macro_recall',\n",
    "                                          'weighted_precision', 'weighted_recall'),\n",
    "                           variable.name = 'metrics')\n",
    "experiment.df.long$corpus <- factor(experiment.df.long$corpus,\n",
    "                                    levels = rev(levels(experiment.df.long$corpus)))"
   ]
  },
  {
   "cell_type": "code",
   "execution_count": null,
   "metadata": {
    "collapsed": false
   },
   "outputs": [],
   "source": [
    "options(repr.plot.width=10, repr.plot.height=10)\n",
    "\n",
    "g <- ggplot(experiment.df.long, aes(x=metrics, y=value, fill=corpus))\n",
    "g <- g + geom_boxplot() + stat_boxplot(geom='errorbar')\n",
    "g <- g + facet_grid(classifier ~ representation)\n",
    "g <- g + theme(axis.text.x=element_text(angle=45, size=10, vjust=0.5), legend.position = 'bottom')\n",
    "g"
   ]
  },
  {
   "cell_type": "code",
   "execution_count": null,
   "metadata": {
    "collapsed": false
   },
   "outputs": [],
   "source": [
    "options(repr.plot.width=8, repr.plot.height=3.5)\n",
    "\n",
    "experiment.df.long.rep <- experiment.df.long[experiment.df.long$representation == selected_representation,]\n",
    "experiment.df.long.rep <- experiment.df.long.rep[experiment.df.long.rep$classifier != 'naive_bayes',]\n",
    "experiment.df.long.rep <- experiment.df.long.rep[experiment.df.long.rep$classifier != 'baseline',]\n",
    "\n",
    "g <- ggplot(experiment.df.long.rep, aes(x=metrics, y=value, fill=corpus))\n",
    "g <- g + geom_boxplot() + stat_boxplot(geom='errorbar')\n",
    "g <- g + facet_wrap(~classifier, nrow=1)\n",
    "g <- g + theme(axis.text.x=element_text(angle=45, size=10, vjust=0.5), legend.position = 'top')\n",
    "g"
   ]
  },
  {
   "cell_type": "code",
   "execution_count": null,
   "metadata": {
    "collapsed": true
   },
   "outputs": [],
   "source": []
  }
 ],
 "metadata": {
  "anaconda-cloud": {},
  "kernelspec": {
   "display_name": "R [conda env:python3]",
   "language": "R",
   "name": "conda-env-python3-r"
  },
  "language_info": {
   "codemirror_mode": "r",
   "file_extension": ".r",
   "mimetype": "text/x-r-source",
   "name": "R",
   "pygments_lexer": "r",
   "version": "3.3.1"
  }
 },
 "nbformat": 4,
 "nbformat_minor": 1
}
