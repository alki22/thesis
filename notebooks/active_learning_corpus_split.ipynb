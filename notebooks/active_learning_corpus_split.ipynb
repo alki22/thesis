{
 "cells": [
  {
   "cell_type": "code",
   "execution_count": null,
   "metadata": {
    "collapsed": true
   },
   "outputs": [],
   "source": [
    "import numpy as np\n",
    "import pandas as pd\n",
    "\n",
    "from sklearn.model_selection import train_test_split\n",
    "from tqdm import tqdm_notebook"
   ]
  },
  {
   "cell_type": "code",
   "execution_count": null,
   "metadata": {
    "collapsed": false
   },
   "outputs": [],
   "source": [
    "for corpus in ('sensem', 'semeval'):\n",
    "    input_file = '../../resources/hashed/%s/train_dataset.npz' % corpus\n",
    "    output_file = '../../resources/active_learning/%s_indices.npz' % corpus\n",
    "\n",
    "    dataset = np.load(input_file)\n",
    "    target = dataset['target']\n",
    "    lemmas = dataset['lemmas']\n",
    "\n",
    "    initial_indices = []\n",
    "    unlabeled_indices = []\n",
    "\n",
    "    for lemma in np.unique(lemmas):\n",
    "        indices = np.where(lemmas == lemma)[0]\n",
    "        initial_size = np.int(indices.shape[0]/2)\n",
    "        lemma_initial_indices = indices[:initial_size]\n",
    "        lemma_unlabeled_indices = indices[initial_size:]\n",
    "\n",
    "        while np.unique(target[indices]).shape[0] >= 2 and np.unique(target[lemma_initial_indices]).shape[0] < 2:\n",
    "            np.random.shuffle(indices)\n",
    "            lemma_initial_indices = indices[:initial_size]\n",
    "            lemma_unlabeled_indices = indices[initial_size:]\n",
    "\n",
    "        initial_indices.extend(lemma_initial_indices)\n",
    "        unlabeled_indices.extend(lemma_unlabeled_indices)\n",
    "\n",
    "    initial_indices = np.array(initial_indices, dtype=np.int32)\n",
    "    unlabeled_indices = np.array(unlabeled_indices, dtype=np.int32)\n",
    "\n",
    "    np.savez_compressed(output_file, initial_indices=initial_indices, unlabeled_indices=unlabeled_indices)"
   ]
  },
  {
   "cell_type": "code",
   "execution_count": null,
   "metadata": {
    "collapsed": false
   },
   "outputs": [],
   "source": [
    "for corpus in ('sensem', 'semeval'):\n",
    "    input_file = '../../resources/hashed/%s/train_dataset.npz' % corpus\n",
    "    output_file = '../../resources/active_learning/%s_indices.npz' % corpus\n",
    "\n",
    "    dataset = np.load(input_file)\n",
    "    target = dataset['target']\n",
    "\n",
    "    initial_size = 0.5\n",
    "\n",
    "    classes, y_counts = np.unique(target, return_counts=True)\n",
    "\n",
    "    n_cls = classes.shape[0]\n",
    "    n_initial = target.shape[0] * initial_size\n",
    "    n_unlabel = target.shape[0] - n_initial\n",
    "\n",
    "    assert n_initial >= n_cls and n_unlabel >= n_cls\n",
    "\n",
    "    initial_count = np.maximum(np.round(y_counts * initial_size), np.ones(n_cls)).astype(np.int32)\n",
    "    unlabeled_count = (y_counts - initial_count).astype(np.int32)\n",
    "\n",
    "    initial_indices = []\n",
    "    unlabeled_indices = []\n",
    "\n",
    "    for idx, cls in enumerate(classes):\n",
    "        labels_for_class = np.where(target == cls)[0]\n",
    "\n",
    "        initial_indices.extend(labels_for_class[:initial_count[idx]])\n",
    "        unlabeled_indices.extend(labels_for_class[initial_count[idx]:initial_count[idx]+unlabeled_count[idx]])\n",
    "\n",
    "    initial_indices = np.array(initial_indices, dtype=np.int32)\n",
    "    unlabeled_indices = np.array(unlabeled_indices, dtype=np.int32)\n",
    "\n",
    "    np.savez_compressed(output_file, initial_indices=initial_indices, unlabeled_indices=unlabeled_indices)"
   ]
  },
  {
   "cell_type": "code",
   "execution_count": null,
   "metadata": {
    "collapsed": true
   },
   "outputs": [],
   "source": []
  }
 ],
 "metadata": {
  "anaconda-cloud": {},
  "kernelspec": {
   "display_name": "Python [conda root]",
   "language": "python",
   "name": "conda-root-py"
  },
  "language_info": {
   "codemirror_mode": {
    "name": "ipython",
    "version": 3
   },
   "file_extension": ".py",
   "mimetype": "text/x-python",
   "name": "python",
   "nbconvert_exporter": "python",
   "pygments_lexer": "ipython3",
   "version": "3.5.2"
  }
 },
 "nbformat": 4,
 "nbformat_minor": 1
}
