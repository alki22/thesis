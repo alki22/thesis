{
 "cells": [
  {
   "cell_type": "code",
   "execution_count": null,
   "metadata": {
    "collapsed": true
   },
   "outputs": [],
   "source": [
    "import numpy as np\n",
    "import pickle\n",
    "\n",
    "from tqdm import tqdm_notebook"
   ]
  },
  {
   "cell_type": "code",
   "execution_count": null,
   "metadata": {
    "collapsed": false
   },
   "outputs": [],
   "source": [
    "unlabeled_instances_id = np.load('../../resources/hashed/unlabeled_spanish/dataset.npz')['instances_id']\n",
    "\n",
    "basefilename = '../../resources/corpora/unlabeled_spanish/%(corpus)s/%(filename)s'\n",
    "last_filename = ''\n",
    "file = None\n",
    "\n",
    "with open('../../resources/active_learning/spanish_sentences.txt', 'w') as fout:\n",
    "    for iid in tqdm_notebook(unlabeled_instances_id):\n",
    "        corpus, filename, id_sentence, verb, id_line = iid.split(':')\n",
    "        id_sentence = int(id_sentence)\n",
    "        id_line = int(id_line)\n",
    "        filename = basefilename % {'corpus': corpus, 'filename': filename}\n",
    "\n",
    "        if last_filename != filename:\n",
    "            if file is not None:\n",
    "                file.close()\n",
    "            file = open(filename, 'r')\n",
    "        else:\n",
    "            file.seek(0)\n",
    "\n",
    "        for line in file:\n",
    "            if line.startswith('META'):\n",
    "                sentence = int(line.strip().split()[1].split(':')[1])\n",
    "                if sentence == id_sentence:\n",
    "                    tokens = []\n",
    "                    for idx, token in enumerate(file, start=1):\n",
    "                        if token.strip() == '':\n",
    "                            break\n",
    "                        else:\n",
    "                            token = token.strip().split()[1]\n",
    "                            tokens.append('_%s_' % token if idx == id_line else token)\n",
    "                    print('%s\\t%s' % (iid, ' '.join(tokens)), file=fout)\n",
    "                    break\n",
    "\n",
    "    file.close()"
   ]
  },
  {
   "cell_type": "code",
   "execution_count": null,
   "metadata": {
    "collapsed": true
   },
   "outputs": [],
   "source": []
  }
 ],
 "metadata": {
  "anaconda-cloud": {},
  "kernelspec": {
   "display_name": "Python [conda root]",
   "language": "python",
   "name": "conda-root-py"
  },
  "language_info": {
   "codemirror_mode": {
    "name": "ipython",
    "version": 3
   },
   "file_extension": ".py",
   "mimetype": "text/x-python",
   "name": "python",
   "nbconvert_exporter": "python",
   "pygments_lexer": "ipython3",
   "version": "3.5.2"
  }
 },
 "nbformat": 4,
 "nbformat_minor": 1
}
