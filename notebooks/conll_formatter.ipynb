{
 "cells": [
  {
   "cell_type": "code",
   "execution_count": null,
   "metadata": {
    "collapsed": true
   },
   "outputs": [],
   "source": [
    "import numpy as np\n",
    "import os\n",
    "import pandas as pd\n",
    "import sh\n",
    "\n",
    "from collections import Counter\n",
    "from lxml import etree\n",
    "from tqdm import tqdm_notebook"
   ]
  },
  {
   "cell_type": "code",
   "execution_count": null,
   "metadata": {
    "collapsed": false
   },
   "outputs": [],
   "source": [
    "base_directory = '../resources/word_sense_disambigation_corpora/'\n",
    "sentences = 1\n",
    "\n",
    "with open('google_wsd.col', 'w') as fout:\n",
    "    for file in tqdm_notebook(sh.find('%smasc' % base_directory, '%ssemcor' % base_directory,\n",
    "                                      '-type', 'f', '-name', '*.xml')):\n",
    "        root = etree.parse(file.strip()).getroot()\n",
    "\n",
    "        sentence = []\n",
    "        verb_senses = []\n",
    "        for word in root.findall('word'):\n",
    "            if word.attrib['text'].strip() == '':\n",
    "                continue\n",
    "            \n",
    "            break_level = word.attrib['break_level']\n",
    "            \n",
    "            docname = file.strip().replace(base_directory, '')\n",
    "            corpus = 'masc' if docname.startswith('masc') else 'semcor'\n",
    "            domain = 'semcor' if corpus == 'semcor' else os.path.dirname(docname)[5:]\n",
    "\n",
    "            if break_level == 'PARAGRAPH_BREAK' or break_level == 'SENTENCE_BREAK':\n",
    "                for vidx, token, lemma, sense in verb_senses:\n",
    "                    meta_string = 'META:%s\\tsentence:%05d\\t' % (corpus, sentences)\n",
    "                    meta_string += 'doc:%s\\t' % docname\n",
    "                    meta_string += 'domain:%s\\t' % domain\n",
    "                    meta_string += 'main_lemma:%s\\t' % lemma\n",
    "                    meta_string += 'main_lemma_index:%d\\t' % vidx\n",
    "                    meta_string += 'main_token:%s\\t' % token\n",
    "                    meta_string += 'sense:%s' % sense\n",
    "                    print(meta_string, file=fout)\n",
    "                    print('\\n'.join(sentence), file=fout, end='\\n\\n')\n",
    "                    sentences += 1\n",
    "                sentence = []\n",
    "                verb_senses = []\n",
    "\n",
    "            sidx = len(sentence) + 1\n",
    "            if 'pos' in word.attrib and word.attrib['pos'] == 'VERB':\n",
    "                verb_senses.append((sidx, word.attrib['text'], word.attrib['lemma'], word.attrib['sense']))\n",
    "                sentence.append('%d\\t%s\\t%s\\t-' % (sidx, word.attrib['text'], word.attrib['lemma']))\n",
    "            else:\n",
    "                sentence.append('%d\\t%s\\t-\\t-' % (sidx, word.attrib['text']))"
   ]
  }
 ],
 "metadata": {
  "anaconda-cloud": {},
  "kernelspec": {
   "display_name": "Python [conda root]",
   "language": "python",
   "name": "conda-root-py"
  },
  "language_info": {
   "codemirror_mode": {
    "name": "ipython",
    "version": 3
   },
   "file_extension": ".py",
   "mimetype": "text/x-python",
   "name": "python",
   "nbconvert_exporter": "python",
   "pygments_lexer": "ipython3",
   "version": "3.5.2"
  }
 },
 "nbformat": 4,
 "nbformat_minor": 1
}
