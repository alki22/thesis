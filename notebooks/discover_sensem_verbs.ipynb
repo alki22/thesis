{
 "cells": [
  {
   "cell_type": "code",
   "execution_count": null,
   "metadata": {
    "collapsed": false
   },
   "outputs": [],
   "source": [
    "import sys\n",
    "\n",
    "from tqdm import tqdm_notebook"
   ]
  },
  {
   "cell_type": "code",
   "execution_count": null,
   "metadata": {
    "collapsed": true
   },
   "outputs": [],
   "source": [
    "sys.path.append('../')\n",
    "from thesis.parsers import ColumnCorpusParser"
   ]
  },
  {
   "cell_type": "code",
   "execution_count": null,
   "metadata": {
    "collapsed": true
   },
   "outputs": [],
   "source": [
    "parser = ColumnCorpusParser('../../resources/sensem.newparse.conll', 'idx', 'token', 'lemma', 'tag',\n",
    "                            'short_tag', 'morpho_info', 'ner', 'dep_head', 'dep_rel')"
   ]
  },
  {
   "cell_type": "code",
   "execution_count": null,
   "metadata": {
    "collapsed": false
   },
   "outputs": [],
   "source": [
    "with open('../../resources/sensem.rediscover.2.conll', 'w') as fout,\\\n",
    "    open('../../resources/notfound.2.log', 'w') as flog:\n",
    "    for sentence in tqdm_notebook(parser.sentences, total=24153):\n",
    "        if sentence.main_lemma_index == '-':\n",
    "            possible_indexes = []\n",
    "            for word in sentence:\n",
    "                if word.lemma == sentence.main_lemma:\n",
    "                    possible_indexes.append(word.idx)\n",
    "            if len(possible_indexes) == 0:\n",
    "                print('Lemma not found for sentence %05d' % sentence.sentence_index, file=flog)\n",
    "            elif len(possible_indexes) == 1:\n",
    "                sentence['main_lemma_index'] = str(possible_indexes[0])\n",
    "            else:\n",
    "                print('Multiple lemmas found for sentence %05d: %s' %\n",
    "                      (sentence.sentence_index, ' '.join(str(idx) for idx in possible_indexes)), file=flog)\n",
    "            \n",
    "        print(sentence.metadata_string, file=fout)\n",
    "        print(str(sentence), file=fout, end='\\n\\n')"
   ]
  },
  {
   "cell_type": "code",
   "execution_count": null,
   "metadata": {
    "collapsed": true
   },
   "outputs": [],
   "source": []
  }
 ],
 "metadata": {
  "anaconda-cloud": {},
  "kernelspec": {
   "display_name": "Python [conda env:python3]",
   "language": "python",
   "name": "conda-env-python3-py"
  },
  "language_info": {
   "codemirror_mode": {
    "name": "ipython",
    "version": 3
   },
   "file_extension": ".py",
   "mimetype": "text/x-python",
   "name": "python",
   "nbconvert_exporter": "python",
   "pygments_lexer": "ipython3",
   "version": "3.5.2"
  }
 },
 "nbformat": 4,
 "nbformat_minor": 1
}
