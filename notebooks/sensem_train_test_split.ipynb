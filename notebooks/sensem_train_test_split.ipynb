{
 "cells": [
  {
   "cell_type": "code",
   "execution_count": null,
   "metadata": {
    "collapsed": true
   },
   "outputs": [],
   "source": [
    "import numpy as np\n",
    "import pandas as pd\n",
    "import sh\n",
    "\n",
    "from tqdm import tqdm_notebook"
   ]
  },
  {
   "cell_type": "code",
   "execution_count": null,
   "metadata": {
    "collapsed": true
   },
   "outputs": [],
   "source": [
    "sensem_conll = '../../resources/sensem.conll'\n",
    "\n",
    "test_size = 0.2\n",
    "\n",
    "metadata_cols = ['META', 'sentence', 'corpus', 'sensem_sense', 'sensem_sentence',\n",
    "                 'verb_lemma', 'verb_position', 'wn', 'wn16', 'wn30']"
   ]
  },
  {
   "cell_type": "code",
   "execution_count": null,
   "metadata": {
    "collapsed": false
   },
   "outputs": [],
   "source": [
    "metadata = []\n",
    "for mdata in sh.grep('^META', sensem_conll):\n",
    "    metadata.append(dict(md.split(':') for md in mdata.strip().split()))\n",
    "\n",
    "metadata = pd.DataFrame(metadata, columns=metadata_cols)"
   ]
  },
  {
   "cell_type": "code",
   "execution_count": null,
   "metadata": {
    "collapsed": false
   },
   "outputs": [],
   "source": [
    "filtered = metadata.groupby(['verb_lemma', 'sensem_sense']).filter(lambda x: len(x) < 2 or x.sensem_sense.values[0] == '-').index\n",
    "metadata.loc[filtered,'corpus'] = 'filtered'\n",
    "\n",
    "non_filtered = metadata.groupby('sensem_sense').filter(lambda x: len(x) >= 2 and x.sensem_sense.values[0] != '-').index"
   ]
  },
  {
   "cell_type": "code",
   "execution_count": null,
   "metadata": {
    "collapsed": false
   },
   "outputs": [],
   "source": [
    "labels = metadata.loc[non_filtered].sensem_sense\n",
    "\n",
    "classes, y_counts = np.unique(labels, return_counts=True)\n",
    "n_cls = classes.shape[0]\n",
    "n_test = labels.shape[0] * test_size\n",
    "n_train = labels.shape[0] - n_test\n",
    "\n",
    "assert n_train >= n_cls and n_test >= n_cls\n",
    "\n",
    "test_count = np.maximum(np.round(y_counts * test_size), np.ones(n_cls)).astype(np.int32)\n",
    "train_count = (y_counts - test_count).astype(np.int32)\n",
    "\n",
    "train_indices = []\n",
    "test_indices = []\n",
    "\n",
    "for idx, cls in enumerate(classes):\n",
    "    labels_for_class = labels[labels == cls]\n",
    "\n",
    "    train_indices.extend(labels_for_class[:train_count[idx]].index)\n",
    "    test_indices.extend(labels_for_class[train_count[idx]:train_count[idx]+test_count[idx]].index)\n",
    "\n",
    "train_indices = np.array(train_indices, dtype=np.int32)\n",
    "test_indices = np.array(test_indices, dtype=np.int32)\n",
    "\n",
    "metadata.loc[train_indices, 'corpus'] = 'train'\n",
    "metadata.loc[test_indices, 'corpus'] = 'test'"
   ]
  },
  {
   "cell_type": "code",
   "execution_count": null,
   "metadata": {
    "collapsed": false
   },
   "outputs": [],
   "source": [
    "sensem_meta = ('\\t'.join(\":\".join(r) for r in zip(row.index, row)) for _, row in metadata.iterrows())\n",
    "\n",
    "with open(sensem_conll, 'r') as fin, open('../../resources/sensem.new.conll', 'w') as fout:\n",
    "    for line in tqdm_notebook(fin, total=840705):\n",
    "        if line.startswith(\"META\"):\n",
    "            print(next(sensem_meta), file=fout)\n",
    "        else:\n",
    "            print(line.strip(), file=fout)"
   ]
  },
  {
   "cell_type": "code",
   "execution_count": null,
   "metadata": {
    "collapsed": true
   },
   "outputs": [],
   "source": []
  }
 ],
 "metadata": {
  "anaconda-cloud": {},
  "kernelspec": {
   "display_name": "Python [conda env:python3]",
   "language": "python",
   "name": "conda-env-python3-py"
  },
  "language_info": {
   "codemirror_mode": {
    "name": "ipython",
    "version": 3
   },
   "file_extension": ".py",
   "mimetype": "text/x-python",
   "name": "python",
   "nbconvert_exporter": "python",
   "pygments_lexer": "ipython3",
   "version": "3.5.2"
  }
 },
 "nbformat": 4,
 "nbformat_minor": 1
}
