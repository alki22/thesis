{
 "cells": [
  {
   "cell_type": "code",
   "execution_count": null,
   "metadata": {
    "collapsed": true
   },
   "outputs": [],
   "source": [
    "import numpy as np\n",
    "import pandas as pd\n",
    "import sh"
   ]
  },
  {
   "cell_type": "code",
   "execution_count": null,
   "metadata": {
    "collapsed": true
   },
   "outputs": [],
   "source": [
    "input_file = '../../resources/sensem.conll'\n",
    "\n",
    "metadata_cols = ['META', 'sentence', 'corpus', 'main_lemma', 'main_lemma_index',\n",
    "                 'resource_sentence', 'sense', 'wn', 'wn16', 'wn30']"
   ]
  },
  {
   "cell_type": "code",
   "execution_count": null,
   "metadata": {
    "collapsed": true
   },
   "outputs": [],
   "source": [
    "input_file = '../../resources/semeval.conll'\n",
    "\n",
    "metadata_cols = ['META', 'sentence', 'corpus', 'doc', 'lemma_tag', 'main_lemma',\n",
    "                 'main_lemma_index', 'resource_sentence', 'sense']"
   ]
  },
  {
   "cell_type": "code",
   "execution_count": null,
   "metadata": {
    "collapsed": false
   },
   "outputs": [],
   "source": [
    "metadata = []\n",
    "for mdata in sh.grep('^META', input_file):\n",
    "    metadata.append(dict(md.split(':', 1) for md in mdata.strip().split()))\n",
    "\n",
    "metadata = pd.DataFrame(metadata, columns=metadata_cols)\n",
    "metadata.head()"
   ]
  },
  {
   "cell_type": "code",
   "execution_count": null,
   "metadata": {
    "collapsed": true
   },
   "outputs": [],
   "source": [
    "not_filter_condition = (metadata.corpus != 'filtered') & (metadata.lemma_pos == 'v')\n",
    "train_condition = (metadata.corpus == 'train') & (metadata.lemma_pos == 'v')\n",
    "test_condition = (metadata.corpus == 'test') & (metadata.lemma_pos == 'v')"
   ]
  },
  {
   "cell_type": "code",
   "execution_count": null,
   "metadata": {
    "collapsed": true
   },
   "outputs": [],
   "source": [
    "not_filter_condition = (metadata.corpus != 'filtered')\n",
    "train_condition = (metadata.corpus == 'train')\n",
    "test_condition = (metadata.corpus == 'test')"
   ]
  },
  {
   "cell_type": "code",
   "execution_count": null,
   "metadata": {
    "collapsed": false
   },
   "outputs": [],
   "source": [
    "print(\"Sentences: %d\" % metadata.sentence.count())\n",
    "print(\"Filtered: %d\" % metadata[~not_filter_condition].sentence.count())\n",
    "print(\"Training: %d\" % metadata[train_condition].sentence.count())\n",
    "print(\"Test: %d\" % metadata[test_condition].sentence.count())"
   ]
  },
  {
   "cell_type": "code",
   "execution_count": null,
   "metadata": {
    "collapsed": false
   },
   "outputs": [],
   "source": [
    "print(\"Avg. sentences per lemma: %.2f\" % metadata[not_filter_condition]\n",
    "      .groupby([lemma_column]).count().sentence.mean())\n",
    "print(\"Median sentences per lemma: %.2f\" % metadata[not_filter_condition]\n",
    "      .groupby([lemma_column]).count().sentence.median())\n",
    "print(\"Avg. sentences per sense: %.2f\" % metadata[not_filter_condition]\n",
    "      .groupby([lemma_column, sense_column]).count().sentence.mean())\n",
    "print(\"Median sentences per sense: %.2f\" % metadata[not_filter_condition]\n",
    "      .groupby([lemma_column, sense_column]).count().sentence.median())\n",
    "\n",
    "print(\"Avg. sentences per lemma for train: %.2f\" % metadata[train_condition]\n",
    "      .groupby([lemma_column]).count().sentence.mean())\n",
    "print(\"Avg. sentences per lemma for test: %.2f\" % metadata[test_condition]\n",
    "      .groupby([lemma_column]).count().sentence.mean())\n",
    "print(\"Avg. sentences per sense for train: %.2f\" % metadata[train_condition]\n",
    "      .groupby([lemma_column, sense_column]).count().sentence.mean())\n",
    "print(\"Avg. sentences per sense for test: %.2f\" % metadata[test_condition]\n",
    "      .groupby([lemma_column, sense_column]).count().sentence.mean())"
   ]
  },
  {
   "cell_type": "code",
   "execution_count": null,
   "metadata": {
    "collapsed": false
   },
   "outputs": [],
   "source": [
    "print(\"No. of lemmas: %d\" % metadata[not_filter_condition][lemma_column].nunique())\n",
    "print(\"No. of senses: %d\" % metadata[not_filter_condition]\n",
    "      .groupby([lemma_column, sense_column])[sense_column].nunique().sum())\n",
    "print(\"Avg. no. of senses per lemma: %.2f\" % metadata[not_filter_condition]\n",
    "      .groupby([lemma_column])[sense_column].nunique().mean())\n",
    "print(\"Median no. of senses per lemma: %.2f\" % metadata[not_filter_condition]\n",
    "      .groupby([lemma_column])[sense_column].nunique().median())"
   ]
  }
 ],
 "metadata": {
  "anaconda-cloud": {},
  "kernelspec": {
   "display_name": "Python [conda env:python3]",
   "language": "python",
   "name": "conda-env-python3-py"
  },
  "language_info": {
   "codemirror_mode": {
    "name": "ipython",
    "version": 3
   },
   "file_extension": ".py",
   "mimetype": "text/x-python",
   "name": "python",
   "nbconvert_exporter": "python",
   "pygments_lexer": "ipython3",
   "version": "3.5.2"
  }
 },
 "nbformat": 4,
 "nbformat_minor": 1
}
